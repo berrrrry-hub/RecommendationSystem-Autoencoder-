{
  "cells": [
    {
      "cell_type": "markdown",
      "source": [
        "Collaborative Filtering based on Autoencoder\n",
        "-----\n",
        "\n"
      ],
      "metadata": {
        "id": "VXhAZ3q1c2ZT"
      }
    },
    {
      "cell_type": "markdown",
      "metadata": {
        "id": "tkEE3Ghd9azj"
      },
      "source": [
        "## Introduction\n",
        "One very common problem to solve is when you have a number of users and a number of products, and you want to recommend which products are most likely to be useful for which users. There are many variations of this: for example, recommending movies (such as on Netflix), figuring out what to highlight for a user on a home page, deciding what stories to show in a social media feed, and so forth. There is a general solution to this problem, called *collaborative filtering*, which works like this: look at what products the current user has used or liked, find other users that have used or liked similar products, and then recommend other products that those users have used or liked.\n",
        "\n",
        "For example, on Netflix you may have watched lots of movies that are science fiction, full of action, and were made in the 1970s. Netflix may not know these particular properties of the films you have watched, but it will be able to see that other people that have watched the same movies that you watched also tended to watch other movies that are science fiction, full of action, and were made in the 1970s. In other words, to use this approach we don't necessarily need to know anything about the movies, except who like to watch them.\n",
        "\n",
        "There is actually a more general class of problems that this approach can solve, not necessarily involving users and products. Indeed, for collaborative filtering we more commonly refer to *items*, rather than *products*. Items could be links that people click on, diagnoses that are selected for patients, and so forth.\n",
        "\n",
        "The key foundational idea is that of *latent factors*. In the Netflix example, we started with the assumption that you like old, action-packed sci-fi movies. But you never actually told Netflix that you like these kinds of movies. And Netflix never actually needed to add columns to its movies table saying which movies are of these types. Still, there must be some underlying concept of sci-fi, action, and movie age, and these concepts must be relevant for at least some people's movie watching decisions.\n",
        "\n"
      ]
    },
    {
      "cell_type": "markdown",
      "metadata": {
        "id": "OeHGO4qbUUC4"
      },
      "source": [
        "## Preparations"
      ]
    },
    {
      "cell_type": "markdown",
      "source": [
        "We first import the packages and download the data."
      ],
      "metadata": {
        "id": "lvWi4dUf1dQx"
      }
    },
    {
      "cell_type": "code",
      "source": [
        "import torch\n",
        "torch.cuda.empty_cache()  # Clear GPU cache"
      ],
      "metadata": {
        "id": "qd_qn9FpBxWi"
      },
      "execution_count": 1,
      "outputs": []
    },
    {
      "cell_type": "code",
      "execution_count": 2,
      "metadata": {
        "id": "frj5rX9wUUC_"
      },
      "outputs": [],
      "source": [
        "%matplotlib inline\n",
        "import matplotlib.pyplot as plt\n",
        "import numpy as np\n",
        "import os.path as op\n",
        "import imp\n",
        "import numpy as np\n",
        "\n",
        "from zipfile import ZipFile\n",
        "try:\n",
        "    from urllib.request import urlretrieve\n",
        "except ImportError:  # Python 2 compat\n",
        "    from urllib import urlretrieve\n",
        "\n",
        "# this line need to be changed if not on colab:\n",
        "data_folder = '/content/'\n",
        "\n",
        "\n",
        "ML_1M_URL = \"https://files.grouplens.org/datasets/movielens/ml-32m.zip\"\n",
        "ML_1M_FILENAME = op.join(data_folder,ML_1M_URL.rsplit('/', 1)[1])\n",
        "ML_1M_FOLDER = op.join(data_folder,'ml-32m')"
      ]
    },
    {
      "cell_type": "code",
      "execution_count": 3,
      "metadata": {
        "id": "utzHaMDsV1Bq",
        "colab": {
          "base_uri": "https://localhost:8080/"
        },
        "outputId": "191a321d-01fe-45c7-a2e7-15cf0a0b2ef1"
      },
      "outputs": [
        {
          "output_type": "stream",
          "name": "stdout",
          "text": [
            "Downloading https://files.grouplens.org/datasets/movielens/ml-32m.zip to /content/ml-32m.zip...\n",
            "Extracting /content/ml-32m.zip to /content/ml-32m...\n"
          ]
        }
      ],
      "source": [
        "if not op.exists(ML_1M_FILENAME):\n",
        "    print('Downloading %s to %s...' % (ML_1M_URL, ML_1M_FILENAME))\n",
        "    urlretrieve(ML_1M_URL, ML_1M_FILENAME)\n",
        "\n",
        "if not op.exists(ML_1M_FOLDER):\n",
        "    print('Extracting %s to %s...' % (ML_1M_FILENAME, ML_1M_FOLDER))\n",
        "    ZipFile(ML_1M_FILENAME).extractall(data_folder)"
      ]
    },
    {
      "cell_type": "markdown",
      "source": [
        "There are four different files:\n",
        "\n",
        "- README\n",
        "- movies.dat\n",
        "- ratings.dat\n",
        "- users.dat\n",
        "\n",
        "You may read README to get the description of each dat files."
      ],
      "metadata": {
        "id": "omZ80S7J1voX"
      }
    },
    {
      "cell_type": "markdown",
      "metadata": {
        "id": "hHgLg4jBUUDp"
      },
      "source": [
        "## Check the data"
      ]
    },
    {
      "cell_type": "code",
      "source": [
        "import os\n",
        "\n",
        "# Path to the extracted dataset folder\n",
        "dataset_path = '/content/ml-32m'  # Adjust this path if needed\n",
        "\n",
        "# List all files in the folder\n",
        "files = os.listdir(dataset_path)\n",
        "print(\"Files in the dataset:\")\n",
        "for file in files:\n",
        "    print(file)\n"
      ],
      "metadata": {
        "colab": {
          "base_uri": "https://localhost:8080/"
        },
        "id": "J6ktivH0-9su",
        "outputId": "78e7801f-3a01-4e50-9266-3beadca24b5b"
      },
      "execution_count": 4,
      "outputs": [
        {
          "output_type": "stream",
          "name": "stdout",
          "text": [
            "Files in the dataset:\n",
            "ratings.csv\n",
            "tags.csv\n",
            "checksums.txt\n",
            "links.csv\n",
            "README.txt\n",
            "movies.csv\n"
          ]
        }
      ]
    },
    {
      "cell_type": "code",
      "source": [
        "import pandas as pd\n",
        "\n",
        "ratings = pd.read_csv('/content/ml-32m/ratings.csv')\n",
        "print(ratings.head())\n"
      ],
      "metadata": {
        "colab": {
          "base_uri": "https://localhost:8080/"
        },
        "id": "ZXYVvjyW_Re3",
        "outputId": "acd09f12-cfa5-4166-d5a9-171dd57e8969"
      },
      "execution_count": 5,
      "outputs": [
        {
          "output_type": "stream",
          "name": "stdout",
          "text": [
            "   userId  movieId  rating  timestamp\n",
            "0       1       17     4.0  944249077\n",
            "1       1       25     1.0  944250228\n",
            "2       1       29     2.0  943230976\n",
            "3       1       30     5.0  944249077\n",
            "4       1       32     5.0  943228858\n"
          ]
        }
      ]
    },
    {
      "cell_type": "code",
      "source": [
        "movies = pd.read_csv('/content/ml-32m/movies.csv')\n",
        "print(movies.head())"
      ],
      "metadata": {
        "colab": {
          "base_uri": "https://localhost:8080/"
        },
        "id": "wAbSkNxY_und",
        "outputId": "0d6d993b-73fa-4287-80d1-f34d1a0e17cd"
      },
      "execution_count": 6,
      "outputs": [
        {
          "output_type": "stream",
          "name": "stdout",
          "text": [
            "   movieId                               title  \\\n",
            "0        1                    Toy Story (1995)   \n",
            "1        2                      Jumanji (1995)   \n",
            "2        3             Grumpier Old Men (1995)   \n",
            "3        4            Waiting to Exhale (1995)   \n",
            "4        5  Father of the Bride Part II (1995)   \n",
            "\n",
            "                                        genres  \n",
            "0  Adventure|Animation|Children|Comedy|Fantasy  \n",
            "1                   Adventure|Children|Fantasy  \n",
            "2                               Comedy|Romance  \n",
            "3                         Comedy|Drama|Romance  \n",
            "4                                       Comedy  \n"
          ]
        }
      ]
    },
    {
      "cell_type": "markdown",
      "source": [
        "When showing the data, we would rather see movie titles than their IDs. The `movies.csv` contains the correspondence of IDs to movie titles."
      ],
      "metadata": {
        "id": "BiYoxkZqDbVo"
      }
    },
    {
      "cell_type": "code",
      "execution_count": 7,
      "metadata": {
        "colab": {
          "base_uri": "https://localhost:8080/"
        },
        "id": "UDPeRguMV1Bz",
        "scrolled": true,
        "outputId": "d39245f9-9dc2-4bf5-b7a0-61b06278cf25"
      },
      "outputs": [
        {
          "output_type": "stream",
          "name": "stdout",
          "text": [
            "   userId  movieId  rating  timestamp  \\\n",
            "0       1       17     4.0  944249077   \n",
            "1       1       25     1.0  944250228   \n",
            "2       1       29     2.0  943230976   \n",
            "3       1       30     5.0  944249077   \n",
            "4       1       32     5.0  943228858   \n",
            "\n",
            "                                               title  \\\n",
            "0                       Sense and Sensibility (1995)   \n",
            "1                           Leaving Las Vegas (1995)   \n",
            "2  City of Lost Children, The (Cité des enfants p...   \n",
            "3  Shanghai Triad (Yao a yao yao dao waipo qiao) ...   \n",
            "4          Twelve Monkeys (a.k.a. 12 Monkeys) (1995)   \n",
            "\n",
            "                                   genres  \n",
            "0                           Drama|Romance  \n",
            "1                           Drama|Romance  \n",
            "2  Adventure|Drama|Fantasy|Mystery|Sci-Fi  \n",
            "3                             Crime|Drama  \n",
            "4                 Mystery|Sci-Fi|Thriller  \n"
          ]
        }
      ],
      "source": [
        "\n",
        "\n",
        "# Ensure `movieId` in both datasets is of the same type\n",
        "ratings['movieId'] = ratings['movieId'].astype(int)\n",
        "movies['movieId'] = movies['movieId'].astype(int)\n",
        "\n",
        "# Merge the ratings and movies datasets on the common column 'movieId'\n",
        "all_ratings = ratings.merge(movies, on='movieId')\n",
        "\n",
        "# Preview the merged data\n",
        "print(all_ratings.head())\n"
      ]
    },
    {
      "cell_type": "markdown",
      "metadata": {
        "id": "6nVdjC0IV1B3"
      },
      "source": [
        "Here we add the title of the movies to the `all_ratings` data."
      ]
    },
    {
      "cell_type": "markdown",
      "metadata": {
        "id": "enyJuYhUUUEL"
      },
      "source": [
        "The dataframe `all_ratings` contains all the raw data for our problem."
      ]
    },
    {
      "cell_type": "code",
      "execution_count": 8,
      "metadata": {
        "colab": {
          "base_uri": "https://localhost:8080/"
        },
        "id": "3M7-jinQUUEO",
        "outputId": "c08ce5c2-f3ab-456e-bfd0-38463bf7a631"
      },
      "outputs": [
        {
          "output_type": "execute_result",
          "data": {
            "text/plain": [
              "32000204"
            ]
          },
          "metadata": {},
          "execution_count": 8
        }
      ],
      "source": [
        "#number of entries\n",
        "len(all_ratings)"
      ]
    },
    {
      "cell_type": "markdown",
      "source": [
        "# Subseting"
      ],
      "metadata": {
        "id": "ZS_WxC5iBDil"
      }
    },
    {
      "cell_type": "markdown",
      "source": [
        "Because of limited coputing power, we need to downsample the dataset to make the code more manageable."
      ],
      "metadata": {
        "id": "x2b8qat0Z0js"
      }
    },
    {
      "cell_type": "markdown",
      "source": [
        "Here we use timestamp as a cutoff point to filter the ratinsg after 2021."
      ],
      "metadata": {
        "id": "0Y4msW_maDgu"
      }
    },
    {
      "cell_type": "code",
      "source": [
        "\n",
        "# Define the cutoff UNIX timestamp for January 1, 2022\n",
        "cutoff_timestamp_2022 = 1640995200\n",
        "\n",
        "# Filter the dataset for data after 2021\n",
        "data = all_ratings[all_ratings['timestamp'] >= cutoff_timestamp_2022].copy()\n",
        "\n",
        "# Extract year from timestamp and add as a new column\n",
        "data['year'] = pd.to_datetime(data['timestamp'], unit='s').dt.year\n",
        "\n",
        "# Perform random sampling for each year (50% of data per year)\n",
        "new_data = data.groupby('year').apply(lambda x: x.sample(frac=0.1, random_state=42)).reset_index(drop=True)\n",
        "\n",
        "# Count the number of records after sampling\n",
        "num_records_sampled = len(new_data)\n",
        "\n",
        "# Print the number of records and preview the sampled data\n",
        "print(f\"Number of records after random sampling: {num_records_sampled}\")\n",
        "print(new_data.head())\n",
        "\n"
      ],
      "metadata": {
        "colab": {
          "base_uri": "https://localhost:8080/"
        },
        "id": "YtiC687RBCdg",
        "outputId": "3d518592-8d10-4c48-85e6-b04bc467bd22"
      },
      "execution_count": 9,
      "outputs": [
        {
          "output_type": "stream",
          "name": "stdout",
          "text": [
            "Number of records after random sampling: 170715\n",
            "   userId  movieId  rating   timestamp                     title  \\\n",
            "0  102721     7438     0.5  1672470668  Kill Bill: Vol. 2 (2004)   \n",
            "1  166762   199223     4.5  1642568062       Pet Sematary (2019)   \n",
            "2   60048     4091     5.0  1654186782  Can't Buy Me Love (1987)   \n",
            "3  200028    79132     4.5  1641004269          Inception (2010)   \n",
            "4  141385    54503     4.5  1663266119           Superbad (2007)   \n",
            "\n",
            "                                            genres  year  \n",
            "0                            Action|Drama|Thriller  2022  \n",
            "1                                  Horror|Thriller  2022  \n",
            "2                                   Comedy|Romance  2022  \n",
            "3  Action|Crime|Drama|Mystery|Sci-Fi|Thriller|IMAX  2022  \n",
            "4                                           Comedy  2022  \n"
          ]
        },
        {
          "output_type": "stream",
          "name": "stderr",
          "text": [
            "<ipython-input-9-bf82532bfc35>:11: DeprecationWarning: DataFrameGroupBy.apply operated on the grouping columns. This behavior is deprecated, and in a future version of pandas the grouping columns will be excluded from the operation. Either pass `include_groups=False` to exclude the groupings or explicitly select the grouping columns after groupby to silence this warning.\n",
            "  new_data = data.groupby('year').apply(lambda x: x.sample(frac=0.1, random_state=42)).reset_index(drop=True)\n"
          ]
        }
      ]
    },
    {
      "cell_type": "code",
      "source": [
        "# Statistics of ratings\n",
        "ratings_stats = new_data['rating'].describe()\n",
        "print(ratings_stats)\n"
      ],
      "metadata": {
        "colab": {
          "base_uri": "https://localhost:8080/"
        },
        "id": "_YoJJecjEiR8",
        "outputId": "e89a45b9-9b54-4adc-9cad-c7b04878652b"
      },
      "execution_count": 10,
      "outputs": [
        {
          "output_type": "stream",
          "name": "stdout",
          "text": [
            "count    170715.000000\n",
            "mean          3.530158\n",
            "std           1.062323\n",
            "min           0.500000\n",
            "25%           3.000000\n",
            "50%           3.500000\n",
            "75%           4.000000\n",
            "max           5.000000\n",
            "Name: rating, dtype: float64\n"
          ]
        }
      ]
    },
    {
      "cell_type": "code",
      "execution_count": 11,
      "metadata": {
        "colab": {
          "base_uri": "https://localhost:8080/"
        },
        "id": "tCdV2qzMUUEk",
        "outputId": "64b8cc1e-4db3-435e-9bd2-859182174a2a"
      },
      "outputs": [
        {
          "output_type": "stream",
          "name": "stdout",
          "text": [
            "Unique ratings: [0.5 4.5 5.  3.  4.  2.  3.5 2.5 1.5 1. ]\n"
          ]
        }
      ],
      "source": [
        "# Find unique ratings\n",
        "unique_ratings = new_data['rating'].unique()\n",
        "print(\"Unique ratings:\", unique_ratings)\n"
      ]
    },
    {
      "cell_type": "markdown",
      "source": [
        "We now check the user IDs."
      ],
      "metadata": {
        "id": "Q5qXp4HX3P_D"
      }
    },
    {
      "cell_type": "code",
      "source": [
        "# Statistics for the userId column\n",
        "user_stats = new_data['userId'].describe()\n",
        "print(user_stats)\n"
      ],
      "metadata": {
        "colab": {
          "base_uri": "https://localhost:8080/"
        },
        "id": "c1c1lNFG3LM0",
        "outputId": "1ea5cb1c-6422-4bcb-f6ae-b5dad5830b8b"
      },
      "execution_count": 12,
      "outputs": [
        {
          "output_type": "stream",
          "name": "stdout",
          "text": [
            "count    170715.000000\n",
            "mean     100911.723446\n",
            "std       58418.321408\n",
            "min          22.000000\n",
            "25%       49923.000000\n",
            "50%      101154.000000\n",
            "75%      152179.000000\n",
            "max      200933.000000\n",
            "Name: userId, dtype: float64\n"
          ]
        }
      ]
    },
    {
      "cell_type": "code",
      "execution_count": 13,
      "metadata": {
        "colab": {
          "base_uri": "https://localhost:8080/"
        },
        "id": "P1QoS71CUUE7",
        "outputId": "417f9984-a902-43fa-ef1b-d63e5a6874bb"
      },
      "outputs": [
        {
          "output_type": "stream",
          "name": "stdout",
          "text": [
            "Total number of unique users: 12561\n"
          ]
        }
      ],
      "source": [
        "# Calculate the number of unique users\n",
        "total_user_id = len(new_data['userId'].unique())\n",
        "print(\"Total number of unique users:\", total_user_id)\n"
      ]
    },
    {
      "cell_type": "markdown",
      "metadata": {
        "id": "-Az4KDFgV1CQ"
      },
      "source": [
        " Let's check that whether the users are indexed from 0 below using the following code.\n"
      ]
    },
    {
      "cell_type": "code",
      "source": [
        "# Create a sorted list of unique user IDs\n",
        "list_user_id = list(new_data['userId'].unique())\n",
        "list_user_id.sort()\n",
        "\n",
        "# Preview the sorted list (optional)\n",
        "print(\"Sorted list of user IDs:\", list_user_id[:10])  # Display the first 10 user IDs\n"
      ],
      "metadata": {
        "colab": {
          "base_uri": "https://localhost:8080/"
        },
        "id": "QwvbgppwGZrW",
        "outputId": "b16660a7-061a-4b81-d2b0-bced925c4058"
      },
      "execution_count": 14,
      "outputs": [
        {
          "output_type": "stream",
          "name": "stdout",
          "text": [
            "Sorted list of user IDs: [22, 25, 28, 31, 58, 75, 79, 94, 101, 110]\n"
          ]
        }
      ]
    },
    {
      "cell_type": "markdown",
      "source": [
        "We can see that `list_user_id` contains contiguous indices from 22."
      ],
      "metadata": {
        "id": "7wElJE5T2zKx"
      }
    },
    {
      "cell_type": "markdown",
      "metadata": {
        "id": "h-LytszyV1CV"
      },
      "source": [
        "We create a new column `user_num` to get an index from 0 to  for users:"
      ]
    },
    {
      "cell_type": "code",
      "source": [
        "\n",
        "# Map user IDs to indices starting from 0\n",
        "user_id_to_index = {user_id: index for index, user_id in enumerate(list_user_id)}\n",
        "\n",
        "# Add the new column `user_num` to the ratings DataFrame\n",
        "new_data['user_num'] = new_data['userId'].map(user_id_to_index)\n"
      ],
      "metadata": {
        "id": "8FMw8MJZGwZg"
      },
      "execution_count": 15,
      "outputs": []
    },
    {
      "cell_type": "markdown",
      "metadata": {
        "id": "W0OThRYhV1Cb"
      },
      "source": [
        "We now look at movies."
      ]
    },
    {
      "cell_type": "code",
      "source": [
        "# Find unique movies\n",
        "unique_movies = new_data['movieId'].unique()\n",
        "print(\"Unique movies:\", len(unique_movies))\n"
      ],
      "metadata": {
        "colab": {
          "base_uri": "https://localhost:8080/"
        },
        "id": "pNSmMfReUBx8",
        "outputId": "3cc0b025-9aa6-4798-e7a7-4276750407bc"
      },
      "execution_count": 16,
      "outputs": [
        {
          "output_type": "stream",
          "name": "stdout",
          "text": [
            "Unique movies: 18554\n"
          ]
        }
      ]
    },
    {
      "cell_type": "markdown",
      "metadata": {
        "id": "3gGu2LjiV1Ci"
      },
      "source": [
        "Here there is a clear problem: there are 84432 different movies but the range of `item_id` starts at 1 and ends at 32,000,200. So there are gaps, so the first thing you will need to do is to create a new column `item_num` so that all movies are indexed from 0 to 84431."
      ]
    },
    {
      "cell_type": "code",
      "source": [
        "# Create a sorted list of unique user IDs\n",
        "list_movie_id = list(new_data['movieId'].unique())\n",
        "list_movie_id.sort()\n",
        "\n",
        "# Preview the sorted list (optional)\n",
        "print(list_movie_id[:10])  # First 10 values\n",
        "print(list_movie_id[-10:]) # Last 10 values\n"
      ],
      "metadata": {
        "colab": {
          "base_uri": "https://localhost:8080/"
        },
        "id": "8cIMKcvuTV55",
        "outputId": "a1b5b113-d54b-4211-e3ce-44b8f12b3bc0"
      },
      "execution_count": 17,
      "outputs": [
        {
          "output_type": "stream",
          "name": "stdout",
          "text": [
            "[1, 2, 3, 4, 5, 6, 7, 9, 10, 11]\n",
            "[292009, 292093, 292141, 292185, 292229, 292349, 292365, 292585, 292597, 292755]\n"
          ]
        }
      ]
    },
    {
      "cell_type": "markdown",
      "source": [
        "We can see that `list_movie_id` contains contiguous indices from 1, and there are gaps somewhere."
      ],
      "metadata": {
        "id": "PxbHTyDqUnvj"
      }
    },
    {
      "cell_type": "markdown",
      "source": [
        "We create a new column `movie_num` to get an index from 0, and make sure it is increased by 1."
      ],
      "metadata": {
        "id": "8cVDuX9SUsw4"
      }
    },
    {
      "cell_type": "code",
      "source": [
        "\n",
        "# Map movie IDs to indices starting from 0\n",
        "movie_id_to_index = {movie_id: index for index, movie_id in enumerate(list_movie_id)}\n",
        "\n",
        "# Add the new column `movie_num` to the ratings DataFrame\n",
        "new_data['movie_num'] = new_data['movieId'].map(movie_id_to_index)"
      ],
      "metadata": {
        "id": "UWjsRCtcVC7p"
      },
      "execution_count": 18,
      "outputs": []
    },
    {
      "cell_type": "markdown",
      "metadata": {
        "id": "weNJOlzcV1Cl"
      },
      "source": [
        "This function will verify that we have created `movie_num` correctly."
      ]
    },
    {
      "cell_type": "code",
      "execution_count": 19,
      "metadata": {
        "id": "ktctMT12V1Cl"
      },
      "outputs": [],
      "source": [
        "# Function to verify the `movie_num` column is correctly created\n",
        "def check_ratings_num(df):\n",
        "    movie_num = set(df['movie_num'])\n",
        "    if movie_num == set(range(len(movie_num))):\n",
        "        return True\n",
        "    else:\n",
        "        return False"
      ]
    },
    {
      "cell_type": "code",
      "execution_count": 20,
      "metadata": {
        "colab": {
          "base_uri": "https://localhost:8080/"
        },
        "id": "w4w1XQnfV1Cp",
        "outputId": "738b8582-b9f8-4ba3-bfd2-730381fd8d35"
      },
      "outputs": [
        {
          "output_type": "stream",
          "name": "stdout",
          "text": [
            "Verification result: True\n"
          ]
        }
      ],
      "source": [
        "# Apply the function to the DataFrame\n",
        "result = check_ratings_num(new_data)\n",
        "print(\"Verification result:\", result)\n"
      ]
    },
    {
      "cell_type": "markdown",
      "source": [
        "Let's check the dataset:"
      ],
      "metadata": {
        "id": "zVjIdt0IZvtV"
      }
    },
    {
      "cell_type": "code",
      "source": [
        "\n",
        "# Preview the updated DataFrame\n",
        "print(new_data.head())\n"
      ],
      "metadata": {
        "colab": {
          "base_uri": "https://localhost:8080/"
        },
        "id": "lTcmYoYbT3TH",
        "outputId": "666e565a-cade-491e-a4c2-acd53c77a4db"
      },
      "execution_count": 21,
      "outputs": [
        {
          "output_type": "stream",
          "name": "stdout",
          "text": [
            "   userId  movieId  rating   timestamp                     title  \\\n",
            "0  102721     7438     0.5  1672470668  Kill Bill: Vol. 2 (2004)   \n",
            "1  166762   199223     4.5  1642568062       Pet Sematary (2019)   \n",
            "2   60048     4091     5.0  1654186782  Can't Buy Me Love (1987)   \n",
            "3  200028    79132     4.5  1641004269          Inception (2010)   \n",
            "4  141385    54503     4.5  1663266119           Superbad (2007)   \n",
            "\n",
            "                                            genres  year  user_num  movie_num  \n",
            "0                            Action|Drama|Thriller  2022      6431       4138  \n",
            "1                                  Horror|Thriller  2022     10384      14052  \n",
            "2                                   Comedy|Romance  2022      3724       2486  \n",
            "3  Action|Crime|Drama|Mystery|Sci-Fi|Thriller|IMAX  2022     12497       7473  \n",
            "4                                           Comedy  2022      8810       6238  \n"
          ]
        }
      ]
    },
    {
      "cell_type": "markdown",
      "source": [
        "Now, we are using 'new_data' as our raw dataset to build our network."
      ],
      "metadata": {
        "id": "WPcXTxB_alXI"
      }
    },
    {
      "cell_type": "markdown",
      "source": [
        "### Exploratory analysis"
      ],
      "metadata": {
        "id": "lzKQ8wPGabr1"
      }
    },
    {
      "cell_type": "code",
      "execution_count": 22,
      "metadata": {
        "colab": {
          "base_uri": "https://localhost:8080/"
        },
        "id": "l3gfokbNUUFH",
        "outputId": "4a2d822f-17e7-4003-b605-4ef2c3b37d06"
      },
      "outputs": [
        {
          "output_type": "stream",
          "name": "stdout",
          "text": [
            "count    170715.000000\n",
            "mean       7226.297180\n",
            "std        5241.942127\n",
            "min           0.000000\n",
            "25%        2551.000000\n",
            "50%        6563.000000\n",
            "75%       10822.000000\n",
            "max       18553.000000\n",
            "Name: movie_num, dtype: float64\n"
          ]
        }
      ],
      "source": [
        "# Describe the movieId column in all_ratings\n",
        "movie_stats = new_data['movie_num'].describe()\n",
        "print(movie_stats)\n"
      ]
    },
    {
      "cell_type": "code",
      "execution_count": 23,
      "metadata": {
        "colab": {
          "base_uri": "https://localhost:8080/"
        },
        "id": "8ncInsk_V1Cg",
        "outputId": "84dc8d8b-1f4c-40ee-fd08-cf26a6678fdb"
      },
      "outputs": [
        {
          "output_type": "stream",
          "name": "stdout",
          "text": [
            "Total number of unique rated items: 18554\n"
          ]
        }
      ],
      "source": [
        "# Number of unique rated items\n",
        "total_item_id = len(new_data['movieId'].unique())\n",
        "print(\"Total number of unique rated items:\", total_item_id)\n"
      ]
    },
    {
      "cell_type": "markdown",
      "source": [],
      "metadata": {
        "id": "R3theGSFi5R3"
      }
    },
    {
      "cell_type": "markdown",
      "source": [
        "### Preliminary data analysis\n",
        "\n",
        "Top 10 most popular movies in the dataset."
      ],
      "metadata": {
        "id": "y2XGHdnbLms4"
      }
    },
    {
      "cell_type": "code",
      "source": [
        "# Find the top 10 most frequently rated movies\n",
        "top_movies = new_data['title'].value_counts().nlargest(10)\n",
        "print(top_movies)\n"
      ],
      "metadata": {
        "colab": {
          "base_uri": "https://localhost:8080/"
        },
        "id": "V-jcrW96lwsW",
        "outputId": "6af50bae-26c2-4fe0-a416-37b473c039f7"
      },
      "execution_count": 24,
      "outputs": [
        {
          "output_type": "stream",
          "name": "stdout",
          "text": [
            "title\n",
            "Interstellar (2014)                                          489\n",
            "Inception (2010)                                             482\n",
            "Matrix, The (1999)                                           462\n",
            "Fight Club (1999)                                            457\n",
            "Dark Knight, The (2008)                                      457\n",
            "Shawshank Redemption, The (1994)                             429\n",
            "Lord of the Rings: The Return of the King, The (2003)        421\n",
            "Lord of the Rings: The Fellowship of the Ring, The (2001)    415\n",
            "Everything Everywhere All at Once (2022)                     408\n",
            "Dune (2021)                                                  402\n",
            "Name: count, dtype: int64\n"
          ]
        }
      ]
    },
    {
      "cell_type": "markdown",
      "source": [
        " Plot the histogram of popularity (x-axis: # of given ratings, y-axis: # of movies with the given # of ratings)."
      ],
      "metadata": {
        "id": "1KOFiKMCr0_4"
      }
    },
    {
      "cell_type": "code",
      "source": [
        "import matplotlib.pyplot as plt\n",
        "\n",
        "# Calculate the number of ratings per movie\n",
        "ratings_per_movie = new_data['title'].value_counts()\n",
        "\n",
        "# Plot the histogram\n",
        "plt.figure(figsize=(8, 6))\n",
        "plt.hist(ratings_per_movie, bins=50, color='skyblue', edgecolor='black', log=True)\n",
        "\n",
        "# Add labels and title\n",
        "plt.title('Histogram of Movie Popularity', fontsize=14)\n",
        "plt.xlabel('# of Ratings', fontsize=12)\n",
        "plt.ylabel('# of Movies', fontsize=12)\n",
        "plt.grid(axis='y', linestyle='--', alpha=0.7)\n",
        "\n",
        "# Show the plot\n",
        "plt.tight_layout()\n",
        "plt.show()\n"
      ],
      "metadata": {
        "colab": {
          "base_uri": "https://localhost:8080/",
          "height": 607
        },
        "id": "iES1dtjRmnvv",
        "outputId": "b823ed3d-b6e2-4fcd-d6d7-5cf631738b19"
      },
      "execution_count": 25,
      "outputs": [
        {
          "output_type": "display_data",
          "data": {
            "text/plain": [
              "<Figure size 800x600 with 1 Axes>"
            ],
            "image/png": "[encoded data removed]"
          },
          "metadata": {}
        }
      ]
    },
    {
      "cell_type": "markdown",
      "source": [
        "Plot the histogram of user activity (x-axis: # of given ratings, y-axis: # of users with the given # of ratings)."
      ],
      "metadata": {
        "id": "9e7Er529r3xY"
      }
    },
    {
      "cell_type": "code",
      "source": [
        "\n",
        "# Calculate the number of ratings per user\n",
        "ratings_per_user = new_data['userId'].value_counts()\n",
        "\n",
        "# Plot the histogram\n",
        "plt.figure(figsize=(8, 6))\n",
        "plt.hist(ratings_per_user, bins=50, color='orange', edgecolor='black', log=True)\n",
        "\n",
        "# Add labels and title\n",
        "plt.title('Histogram of User Activity', fontsize=14)\n",
        "plt.xlabel('# of Ratings Given by Users', fontsize=12)\n",
        "plt.ylabel('# of Users', fontsize=12)\n",
        "plt.grid(axis='y', linestyle='--', alpha=0.7)\n",
        "\n",
        "# Show the plot\n",
        "plt.tight_layout()\n",
        "plt.show()\n"
      ],
      "metadata": {
        "colab": {
          "base_uri": "https://localhost:8080/",
          "height": 607
        },
        "id": "f-5mN1F6qLLF",
        "outputId": "d74945ac-2557-4f0b-c644-300fd2496bf0"
      },
      "execution_count": 26,
      "outputs": [
        {
          "output_type": "display_data",
          "data": {
            "text/plain": [
              "<Figure size 800x600 with 1 Axes>"
            ],
            "image/png": "[encoded data removed]"
          },
          "metadata": {}
        }
      ]
    },
    {
      "cell_type": "markdown",
      "source": [
        "Let's check the distribution of the movies."
      ],
      "metadata": {
        "id": "0WoXNZuSxFmc"
      }
    },
    {
      "cell_type": "markdown",
      "source": [
        "Firstly, we need to check if all rows contain 'year' information:"
      ],
      "metadata": {
        "id": "NR1PoZR_xLmk"
      }
    },
    {
      "cell_type": "code",
      "source": [
        "\n",
        "# Check if the title column contains a year in parentheses\n",
        "new_data['has_year'] = new_data['title'].str.contains(r'\\(\\d{4}\\)', regex=True)\n",
        "\n",
        "# Identify titles missing the year\n",
        "missing_year_titles = new_data[~new_data['has_year']]\n",
        "\n",
        "# Output the result\n",
        "if missing_year_titles.empty:\n",
        "    print(\"All titles include a bracket containing year information.\")\n",
        "else:\n",
        "    print(\"The following titles are missing year information:\")\n",
        "    print(missing_year_titles[['title']])\n"
      ],
      "metadata": {
        "colab": {
          "base_uri": "https://localhost:8080/"
        },
        "id": "RY1knHVqxExm",
        "outputId": "7f509d1d-a14c-4d80-eedd-4ddb9452c6de"
      },
      "execution_count": 27,
      "outputs": [
        {
          "output_type": "stream",
          "name": "stdout",
          "text": [
            "The following titles are missing year information:\n",
            "                          title\n",
            "310               The Favourite\n",
            "591                   Moonlight\n",
            "599                Petrov's Flu\n",
            "696                The Northman\n",
            "840     The Woman in the Window\n",
            "...                         ...\n",
            "170423            The Favourite\n",
            "170519             The Northman\n",
            "170637                Moonlight\n",
            "170641             The Northman\n",
            "170683                      Tau\n",
            "\n",
            "[1001 rows x 1 columns]\n"
          ]
        }
      ]
    },
    {
      "cell_type": "markdown",
      "source": [
        "Count how many movies are missing their 'year' information:"
      ],
      "metadata": {
        "id": "xl4NfMxwx8ih"
      }
    },
    {
      "cell_type": "code",
      "source": [
        "# Step 1: Filter rows where the title is missing year information\n",
        "missing_year_titles = new_data[~new_data['has_year']]\n",
        "\n",
        "# Step 2: Count unique movies (titles) missing year information\n",
        "unique_missing_titles_count = missing_year_titles['title'].nunique()\n",
        "\n",
        "# Output the result\n",
        "print(f\"There are {unique_missing_titles_count} unique movies missing year information.\")\n"
      ],
      "metadata": {
        "colab": {
          "base_uri": "https://localhost:8080/"
        },
        "id": "zSQG4T01x7mp",
        "outputId": "091d5895-230c-419b-f5b0-dcc93429c5de"
      },
      "execution_count": 28,
      "outputs": [
        {
          "output_type": "stream",
          "name": "stdout",
          "text": [
            "There are 83 unique movies missing year information.\n"
          ]
        }
      ]
    },
    {
      "cell_type": "markdown",
      "source": [
        "Considering that we have around 51k unique movies in this dataset, we can just ignore the missing information and generate a distribution plot of the rest movies."
      ],
      "metadata": {
        "id": "SbX2MCH_y_9B"
      }
    },
    {
      "cell_type": "code",
      "source": [
        "import pandas as pd\n",
        "import matplotlib.pyplot as plt\n",
        "\n",
        "# Step 1: Filter rows with valid year information\n",
        "new_data_with_year = new_data[new_data['has_year']].copy()\n",
        "\n",
        "# Step 2: Extract the year from the title column\n",
        "new_data_with_year['year'] = new_data_with_year['title'].str.extract(r'\\((\\d{4})\\)')\n",
        "\n",
        "# Step 3: Remove duplicates based on the title column\n",
        "unique_movies = new_data_with_year.drop_duplicates(subset='title')\n",
        "\n",
        "# Step 4: Count the number of unique movies produced each year\n",
        "movies_per_year = unique_movies['year'].value_counts().sort_index()\n",
        "\n",
        "# Step 5: Plot the histogram of unique movies by year\n",
        "plt.figure(figsize=(12, 6))\n",
        "movies_per_year.plot(kind='bar', width=0.8, color='skyblue')\n",
        "\n",
        "# Set x-axis labels to display every 5 years\n",
        "plt.title('Number of Unique Movies Produced by Year', fontsize=16)\n",
        "plt.xlabel('Year', fontsize=14)\n",
        "plt.ylabel('Number of Movies', fontsize=14)\n",
        "plt.xticks(range(0, len(movies_per_year), 5), movies_per_year.index[::5], rotation=45)\n",
        "plt.grid(axis='y', linestyle='--', alpha=0.7)\n",
        "plt.tight_layout()\n",
        "plt.show()\n"
      ],
      "metadata": {
        "colab": {
          "base_uri": "https://localhost:8080/",
          "height": 607
        },
        "id": "zjnfLqymy-_2",
        "outputId": "f5277763-6c70-4562-ed49-8601dc388dd2"
      },
      "execution_count": 29,
      "outputs": [
        {
          "output_type": "display_data",
          "data": {
            "text/plain": [
              "<Figure size 1200x600 with 1 Axes>"
            ],
            "image/png": "[encoded data removed]"
          },
          "metadata": {}
        }
      ]
    },
    {
      "cell_type": "markdown",
      "source": [
        "**Exercise**: Compute the average ratings for every movie and find the top 20 highly rated movies. Include the list of 20 highly rated movies and their ratings in your report."
      ],
      "metadata": {
        "id": "nI7Tomlfr64A"
      }
    },
    {
      "cell_type": "code",
      "source": [
        "\n",
        "# Compute the average rating for each movie\n",
        "movie_avg_ratings = new_data.groupby('title')['rating'].mean()\n",
        "\n",
        "# Sort the movies by their average ratings in descending order\n",
        "top_50_movies = movie_avg_ratings.sort_values(ascending=False).head(50)\n",
        "\n",
        "# Print the results\n",
        "print(\"Top 50 Highly Rated Movies:\")\n",
        "print(top_50_movies)\n"
      ],
      "metadata": {
        "colab": {
          "base_uri": "https://localhost:8080/"
        },
        "id": "3TFUhkPEqyLq",
        "outputId": "217b023b-4564-458a-cda7-00f467cd6e6d"
      },
      "execution_count": 30,
      "outputs": [
        {
          "output_type": "stream",
          "name": "stdout",
          "text": [
            "Top 50 Highly Rated Movies:\n",
            "title\n",
            "The Greasy Strangler (2016)                                                 5.0\n",
            "Your Name Engraved Herein (2020)                                            5.0\n",
            "Summer Survivors (2018)                                                     5.0\n",
            "Cook Up a Storm (2017)                                                      5.0\n",
            "Who Killed Captain Alex? (2010)                                             5.0\n",
            "Moomin and Midsummer Madness (2008)                                         5.0\n",
            "Chris D'Elia: Man on Fire (2017)                                            5.0\n",
            "Tomorrow (2015)                                                             5.0\n",
            "The High Note (2020)                                                        5.0\n",
            "Random Acts of Christmas (2019)                                             5.0\n",
            "Those Happy Days (2006)                                                     5.0\n",
            "Christina P: Mother Inferior (2017)                                         5.0\n",
            "Mother and the Whore, The (Maman et la putain, La) (1973)                   5.0\n",
            "Tomorrow, When the War Began (2010)                                         5.0\n",
            "A Waltz Through the Hills (1988)                                            5.0\n",
            "Face of Another, The (Tanin no kao) (1966)                                  5.0\n",
            "Mountains May Depart (2015)                                                 5.0\n",
            "A Wedding to Remember (2021)                                                5.0\n",
            "The Da Vinci Treasure (2006)                                                5.0\n",
            "Tall Men, The (1955)                                                        5.0\n",
            "Yourself and Yours (2016)                                                   5.0\n",
            "As I Was Moving Ahead Occasionally I Saw Brief Glimpses of Beauty (2000)    5.0\n",
            "Executive Order (2022)                                                      5.0\n",
            "Belong To Us (2018)                                                         5.0\n",
            "Scooby-Doo! and the Gourmet Ghost (2018)                                    5.0\n",
            "Gulliver's Travels (1939)                                                   5.0\n",
            "Scooby-Doo! And Kiss: Rock and Roll Mystery (2015)                          5.0\n",
            "School Of Life (2005)                                                       5.0\n",
            "Belle (2013)                                                                5.0\n",
            "Believe Me: The Abduction of Lisa McVey (2018)                              5.0\n",
            "Chinese Ghost Story, A (Sinnui yauwan) (1987)                               5.0\n",
            "Hair Love (2019)                                                            5.0\n",
            "I Am Love (Io sono l'amore) (2009)                                          5.0\n",
            "Monster High: Great Scarrier Reef (2016)                                    5.0\n",
            "This Land Is Mine (2012)                                                    5.0\n",
            "Steve Jobs: The Lost Interview (2012)                                       5.0\n",
            "Monster Pies (2013)                                                         5.0\n",
            "Whole Night, A (Toute une nuit) (1982)                                      5.0\n",
            "Mouse Trouble (1944)                                                        5.0\n",
            "Freaks and Geeks: The Documentary (2018)                                    5.0\n",
            "Submarino (2010)                                                            5.0\n",
            "Darkest Hour, The (2011)                                                    5.0\n",
            "Assa (1987)                                                                 5.0\n",
            "How to Marry a Millionaire (1953)                                           5.0\n",
            "Contract, The (2006)                                                        5.0\n",
            "Summer Lovers (1982)                                                        5.0\n",
            "Music Never Stopped, The (2011)                                             5.0\n",
            "Housesitter (1992)                                                          5.0\n",
            "Alison's Choice (2015)                                                      5.0\n",
            "My Annoying Brother (2016)                                                  5.0\n",
            "Name: rating, dtype: float64\n"
          ]
        }
      ]
    },
    {
      "cell_type": "markdown",
      "source": [
        "We see that some highly rated movies are not popular ones."
      ],
      "metadata": {
        "id": "OYXD-eNv4PyD"
      }
    },
    {
      "cell_type": "markdown",
      "source": [
        "# Autoencoder\n",
        "\n",
        "\n"
      ],
      "metadata": {
        "id": "ed4nPclXUcff"
      }
    },
    {
      "cell_type": "markdown",
      "source": [
        "**Step1：Matrix Operations**"
      ],
      "metadata": {
        "id": "6vpHXadZhff3"
      }
    },
    {
      "cell_type": "markdown",
      "source": [
        "This step ensures that the interaction matrix is correctly set up and ready for computations on the GPU."
      ],
      "metadata": {
        "id": "mcxYLDpfTdHi"
      }
    },
    {
      "cell_type": "code",
      "source": [
        "from sklearn.model_selection import train_test_split\n",
        "\n",
        "# Split the dataset into training (80%) and validation (20%) sets\n",
        "train_data, validation_data = train_test_split(new_data, test_size=0.2, random_state=42)\n",
        "\n",
        "# Verify the number of records in each set\n",
        "print(f\"Training Set Records: {len(train_data)}\")\n",
        "print(f\"Validation Set Records: {len(validation_data)}\")\n"
      ],
      "metadata": {
        "colab": {
          "base_uri": "https://localhost:8080/"
        },
        "id": "fUTYs5bfOVsw",
        "outputId": "42adce3d-453b-4711-a80c-50f742d0095c"
      },
      "execution_count": 31,
      "outputs": [
        {
          "output_type": "stream",
          "name": "stdout",
          "text": [
            "Training Set Records: 136572\n",
            "Validation Set Records: 34143\n"
          ]
        }
      ]
    },
    {
      "cell_type": "code",
      "source": [
        "# Ensure both matrices have the same set of columns\n",
        "common_items = list(set(train_data['movie_num']).intersection(set(validation_data['movie_num'])))\n",
        "\n",
        "# Filter training and validation data to include only common items\n",
        "train_data = train_data[train_data['movie_num'].isin(common_items)]\n",
        "validation_data = validation_data[validation_data['movie_num'].isin(common_items)]\n",
        "\n",
        "# Create user-item matrices for training and validation\n",
        "train_user_item_matrix = train_data.pivot(index='user_num', columns='movie_num', values='rating').fillna(0)\n",
        "validation_user_item_matrix = validation_data.pivot(index='user_num', columns='movie_num', values='rating').fillna(0)\n",
        "\n",
        "# Ensure the same column order for both matrices\n",
        "train_user_item_matrix = train_user_item_matrix[common_items]\n",
        "validation_user_item_matrix = validation_user_item_matrix[common_items]\n",
        "\n",
        "# Convert to NumPy arrays for GPU processing\n",
        "train_interaction_matrix = train_user_item_matrix.to_numpy()\n",
        "validation_interaction_matrix = validation_user_item_matrix.to_numpy()\n",
        "\n",
        "print(f\"Training Matrix Shape: {train_interaction_matrix.shape}\")\n",
        "print(f\"Validation Matrix Shape: {validation_interaction_matrix.shape}\")\n"
      ],
      "metadata": {
        "colab": {
          "base_uri": "https://localhost:8080/"
        },
        "id": "Gy7j5_U5Qny4",
        "outputId": "395b1d88-6db0-4fcc-abac-a11c72cd19e9"
      },
      "execution_count": 32,
      "outputs": [
        {
          "output_type": "stream",
          "name": "stdout",
          "text": [
            "Training Matrix Shape: (12025, 6238)\n",
            "Validation Matrix Shape: (8679, 6238)\n"
          ]
        }
      ]
    },
    {
      "cell_type": "code",
      "source": [
        "# Check if GPU is available and set the device accordingly\n",
        "device = torch.device(\"cuda\" if torch.cuda.is_available() else \"cpu\")\n",
        "print(f\"Using device: {device}\")\n"
      ],
      "metadata": {
        "colab": {
          "base_uri": "https://localhost:8080/"
        },
        "id": "n2_Ybds-O2Ax",
        "outputId": "63c4d66f-b580-4f34-e2b5-d28dee4e8e07"
      },
      "execution_count": 33,
      "outputs": [
        {
          "output_type": "stream",
          "name": "stdout",
          "text": [
            "Using device: cuda\n"
          ]
        }
      ]
    },
    {
      "cell_type": "code",
      "source": [
        "\n",
        "# Convert interaction matrices to PyTorch tensors\n",
        "train_tensor = torch.tensor(train_interaction_matrix, dtype=torch.float32).to(device)\n",
        "validation_tensor = torch.tensor(validation_interaction_matrix, dtype=torch.float32).to(device)\n",
        "\n",
        "print(f\"Training Tensor Device: {train_tensor.device}\")\n",
        "print(f\"Validation Tensor Device: {validation_tensor.device}\")\n"
      ],
      "metadata": {
        "colab": {
          "base_uri": "https://localhost:8080/"
        },
        "id": "al0wc6uRabsP",
        "outputId": "46654ec1-aacd-4beb-98b5-9d74f13804d8"
      },
      "execution_count": 34,
      "outputs": [
        {
          "output_type": "stream",
          "name": "stdout",
          "text": [
            "Training Tensor Device: cuda:0\n",
            "Validation Tensor Device: cuda:0\n"
          ]
        }
      ]
    },
    {
      "cell_type": "markdown",
      "source": [
        "**Step 2: Define AutoRec Model**"
      ],
      "metadata": {
        "id": "QqbDjJ1GTno5"
      }
    },
    {
      "cell_type": "markdown",
      "source": [
        "The AutoRec model consists of an encoder-decoder structure with dropout and ReLU activation."
      ],
      "metadata": {
        "id": "dMRoLnZqTqy7"
      }
    },
    {
      "cell_type": "code",
      "source": [
        "class AutoRec(torch.nn.Module):\n",
        "    def __init__(self, num_items, hidden_dim=500, dropout_rate=0.2):\n",
        "        super(AutoRec, self).__init__()\n",
        "        self.encoder = torch.nn.Linear(num_items, hidden_dim)\n",
        "        self.decoder = torch.nn.Linear(hidden_dim, num_items)\n",
        "        self.dropout = torch.nn.Dropout(dropout_rate)\n",
        "        self.activation = torch.nn.ReLU()\n",
        "\n",
        "    def forward(self, x):\n",
        "        x = self.encoder(x)  # Latent representation\n",
        "        x = self.activation(x)  # Non-linearity\n",
        "        x = self.dropout(x)  # Regularization\n",
        "        x = self.decoder(x)  # Reconstruction\n",
        "        return x\n",
        "\n",
        "# Initialize the model\n",
        "num_items = train_interaction_matrix.shape[1] # Number of items (columns) from the training tensor\n",
        "hidden_dim = 300\n",
        "dropout_rate = 0.5\n",
        "\n",
        "# Create the AutoRec model\n",
        "model = AutoRec(num_items, hidden_dim, dropout_rate).to(device)\n",
        "print(\"AutoRec model reinitialized with aligned item dimensions.\")\n"
      ],
      "metadata": {
        "colab": {
          "base_uri": "https://localhost:8080/"
        },
        "id": "zWRlP8g_7boz",
        "outputId": "1ec8799a-91ea-437a-979e-9ada50f1ff41"
      },
      "execution_count": 35,
      "outputs": [
        {
          "output_type": "stream",
          "name": "stdout",
          "text": [
            "AutoRec model reinitialized with aligned item dimensions.\n"
          ]
        }
      ]
    },
    {
      "cell_type": "markdown",
      "source": [
        "**Step 3: Define Loss Function and Optimizer**"
      ],
      "metadata": {
        "id": "cF2xu1DWT1aJ"
      }
    },
    {
      "cell_type": "code",
      "source": [
        "# Define the loss function and optimizer\n",
        "loss_fn = torch.nn.MSELoss()  # Mean Squared Error for reconstruction\n",
        "optimizer = torch.optim.Adam(model.parameters(), lr=1e-4)  # Adam optimizer\n",
        "print(\"Loss function and optimizer are set up.\")\n"
      ],
      "metadata": {
        "colab": {
          "base_uri": "https://localhost:8080/"
        },
        "id": "tj4zgiT67eZV",
        "outputId": "e270ef79-eef1-43d3-be7e-865dbf84d322"
      },
      "execution_count": 36,
      "outputs": [
        {
          "output_type": "stream",
          "name": "stdout",
          "text": [
            "Loss function and optimizer are set up.\n"
          ]
        }
      ]
    },
    {
      "cell_type": "markdown",
      "source": [
        "**Step 4: Training Loop**"
      ],
      "metadata": {
        "id": "0Op91L7QT_EJ"
      }
    },
    {
      "cell_type": "markdown",
      "source": [
        "Train the model over multiple epochs, and store the loss for plotting later."
      ],
      "metadata": {
        "id": "9JLSkwm-UIrl"
      }
    },
    {
      "cell_type": "code",
      "source": [
        "import torch\n",
        "import numpy as np\n",
        "\n",
        "# Define training parameters\n",
        "num_epochs = 50\n",
        "batch_size = 128\n",
        "patience = 7  # Stop training if validation loss doesn't improve for 7 epochs\n",
        "patience_counter = 0\n",
        "best_val_loss = float(\"inf\")\n",
        "\n",
        "loss_fn = torch.nn.MSELoss()\n",
        "optimizer = torch.optim.Adam(model.parameters(), lr=1e-4, weight_decay=1e-4)  # Added weight decay\n",
        "\n",
        "train_losses = []\n",
        "val_losses = []\n",
        "\n",
        "num_users = train_tensor.shape[0]\n",
        "\n",
        "# Training loop with early stopping\n",
        "for epoch in range(num_epochs):\n",
        "    model.train()\n",
        "    epoch_loss = 0\n",
        "\n",
        "    for i in range(0, num_users, batch_size):\n",
        "        batch_data = train_tensor[i:i + batch_size]\n",
        "\n",
        "        optimizer.zero_grad()\n",
        "        reconstructed = model(batch_data)\n",
        "\n",
        "        mask = batch_data > 0  # Only consider non-zero ratings\n",
        "        loss = loss_fn(reconstructed[mask], batch_data[mask])\n",
        "\n",
        "        loss.backward()\n",
        "        optimizer.step()\n",
        "\n",
        "        epoch_loss += loss.item()\n",
        "\n",
        "    avg_train_loss = epoch_loss / (num_users // batch_size)\n",
        "    train_losses.append(avg_train_loss)\n",
        "\n",
        "    print(f\"Epoch {epoch+1}/{num_epochs}, Training Loss: {avg_train_loss:.4f}\")\n",
        "\n",
        "    # Validation loss computation\n",
        "    model.eval()\n",
        "    with torch.no_grad():\n",
        "        reconstructed_val = model(validation_tensor)\n",
        "        mask_val = validation_tensor > 0\n",
        "        val_loss = loss_fn(reconstructed_val[mask_val], validation_tensor[mask_val]).item()\n",
        "        val_losses.append(val_loss)\n",
        "\n",
        "    print(f\"Validation Loss: {val_loss:.4f}\")\n",
        "\n",
        "    # Early stopping check\n",
        "    if val_loss < best_val_loss:\n",
        "        best_val_loss = val_loss\n",
        "        patience_counter = 0  # Reset patience counter\n",
        "    else:\n",
        "        patience_counter += 1  # Increase patience counter\n",
        "\n",
        "    if patience_counter >= patience:\n",
        "        print(\"Early stopping triggered. Stopping training.\")\n",
        "        break\n"
      ],
      "metadata": {
        "colab": {
          "base_uri": "https://localhost:8080/"
        },
        "id": "et62CE1D7pFQ",
        "outputId": "d27ceb5c-5145-49e3-fcd7-2d78aeb0b85d"
      },
      "execution_count": 37,
      "outputs": [
        {
          "output_type": "stream",
          "name": "stdout",
          "text": [
            "Epoch 1/50, Training Loss: 13.7933\n",
            "Validation Loss: 13.2279\n",
            "Epoch 2/50, Training Loss: 11.1489\n",
            "Validation Loss: 11.3446\n",
            "Epoch 3/50, Training Loss: 7.1964\n",
            "Validation Loss: 9.5857\n",
            "Epoch 4/50, Training Loss: 5.8415\n",
            "Validation Loss: 8.9078\n",
            "Epoch 5/50, Training Loss: 5.1103\n",
            "Validation Loss: 8.4214\n",
            "Epoch 6/50, Training Loss: 4.5945\n",
            "Validation Loss: 7.9877\n",
            "Epoch 7/50, Training Loss: 4.1605\n",
            "Validation Loss: 7.5667\n",
            "Epoch 8/50, Training Loss: 3.8336\n",
            "Validation Loss: 7.2289\n",
            "Epoch 9/50, Training Loss: 3.5467\n",
            "Validation Loss: 6.8940\n",
            "Epoch 10/50, Training Loss: 3.2943\n",
            "Validation Loss: 6.5583\n",
            "Epoch 11/50, Training Loss: 3.0667\n",
            "Validation Loss: 6.2709\n",
            "Epoch 12/50, Training Loss: 2.8799\n",
            "Validation Loss: 5.9858\n",
            "Epoch 13/50, Training Loss: 2.6848\n",
            "Validation Loss: 5.6945\n",
            "Epoch 14/50, Training Loss: 2.5214\n",
            "Validation Loss: 5.4474\n",
            "Epoch 15/50, Training Loss: 2.3846\n",
            "Validation Loss: 5.2059\n",
            "Epoch 16/50, Training Loss: 2.2351\n",
            "Validation Loss: 4.9611\n",
            "Epoch 17/50, Training Loss: 2.0950\n",
            "Validation Loss: 4.7388\n",
            "Epoch 18/50, Training Loss: 1.9819\n",
            "Validation Loss: 4.5293\n",
            "Epoch 19/50, Training Loss: 1.8643\n",
            "Validation Loss: 4.3186\n",
            "Epoch 20/50, Training Loss: 1.7651\n",
            "Validation Loss: 4.1035\n",
            "Epoch 21/50, Training Loss: 1.6735\n",
            "Validation Loss: 3.9196\n",
            "Epoch 22/50, Training Loss: 1.5850\n",
            "Validation Loss: 3.7660\n",
            "Epoch 23/50, Training Loss: 1.4922\n",
            "Validation Loss: 3.5584\n",
            "Epoch 24/50, Training Loss: 1.4155\n",
            "Validation Loss: 3.4192\n",
            "Epoch 25/50, Training Loss: 1.3351\n",
            "Validation Loss: 3.2590\n",
            "Epoch 26/50, Training Loss: 1.2692\n",
            "Validation Loss: 3.1126\n",
            "Epoch 27/50, Training Loss: 1.2108\n",
            "Validation Loss: 2.9644\n",
            "Epoch 28/50, Training Loss: 1.1584\n",
            "Validation Loss: 2.8444\n",
            "Epoch 29/50, Training Loss: 1.1000\n",
            "Validation Loss: 2.7140\n",
            "Epoch 30/50, Training Loss: 1.0471\n",
            "Validation Loss: 2.6076\n",
            "Epoch 31/50, Training Loss: 0.9975\n",
            "Validation Loss: 2.4717\n",
            "Epoch 32/50, Training Loss: 0.9575\n",
            "Validation Loss: 2.3911\n",
            "Epoch 33/50, Training Loss: 0.9259\n",
            "Validation Loss: 2.2917\n",
            "Epoch 34/50, Training Loss: 0.8890\n",
            "Validation Loss: 2.2081\n",
            "Epoch 35/50, Training Loss: 0.8517\n",
            "Validation Loss: 2.1214\n",
            "Epoch 36/50, Training Loss: 0.8236\n",
            "Validation Loss: 2.0462\n",
            "Epoch 37/50, Training Loss: 0.7891\n",
            "Validation Loss: 1.9757\n",
            "Epoch 38/50, Training Loss: 0.7688\n",
            "Validation Loss: 1.9052\n",
            "Epoch 39/50, Training Loss: 0.7514\n",
            "Validation Loss: 1.8592\n",
            "Epoch 40/50, Training Loss: 0.7184\n",
            "Validation Loss: 1.7807\n",
            "Epoch 41/50, Training Loss: 0.6943\n",
            "Validation Loss: 1.7427\n",
            "Epoch 42/50, Training Loss: 0.6766\n",
            "Validation Loss: 1.6904\n",
            "Epoch 43/50, Training Loss: 0.6580\n",
            "Validation Loss: 1.6454\n",
            "Epoch 44/50, Training Loss: 0.6386\n",
            "Validation Loss: 1.6005\n",
            "Epoch 45/50, Training Loss: 0.6224\n",
            "Validation Loss: 1.5706\n",
            "Epoch 46/50, Training Loss: 0.6091\n",
            "Validation Loss: 1.5276\n",
            "Epoch 47/50, Training Loss: 0.6049\n",
            "Validation Loss: 1.4886\n",
            "Epoch 48/50, Training Loss: 0.5836\n",
            "Validation Loss: 1.4619\n",
            "Epoch 49/50, Training Loss: 0.5732\n",
            "Validation Loss: 1.4288\n",
            "Epoch 50/50, Training Loss: 0.5670\n",
            "Validation Loss: 1.4010\n"
          ]
        }
      ]
    },
    {
      "cell_type": "markdown",
      "source": [
        "Evaluate the reconstruction error on the training data using RMSE."
      ],
      "metadata": {
        "id": "LDSr4H_jUT63"
      }
    },
    {
      "cell_type": "code",
      "source": [
        "import math\n",
        "\n",
        "# Evaluate model performance\n",
        "model.eval()\n",
        "with torch.no_grad():\n",
        "    reconstructed_train = model(train_tensor)\n",
        "    mask_train = train_tensor > 0\n",
        "    mse_train = loss_fn(reconstructed_train[mask_train], train_tensor[mask_train])\n",
        "    rmse_train = math.sqrt(mse_train.item())\n",
        "\n",
        "    reconstructed_validation = model(validation_tensor)\n",
        "    mask_val = validation_tensor > 0\n",
        "    mse_val = loss_fn(reconstructed_validation[mask_val], validation_tensor[mask_val])\n",
        "    rmse_val = math.sqrt(mse_val.item())\n",
        "\n",
        "print(f\"Final RMSE on Training Data: {rmse_train:.4f}\")\n",
        "print(f\"Final RMSE on Validation Data: {rmse_val:.4f}\")\n"
      ],
      "metadata": {
        "colab": {
          "base_uri": "https://localhost:8080/"
        },
        "id": "YZ20CcmZQkPS",
        "outputId": "b1705603-5980-4029-ac3f-600b8dda4812"
      },
      "execution_count": 38,
      "outputs": [
        {
          "output_type": "stream",
          "name": "stdout",
          "text": [
            "Final RMSE on Training Data: 0.6088\n",
            "Final RMSE on Validation Data: 1.1836\n"
          ]
        }
      ]
    },
    {
      "cell_type": "code",
      "source": [
        "import matplotlib.pyplot as plt\n",
        "\n",
        "plt.figure(figsize=(10, 6))\n",
        "plt.plot(range(1, len(train_losses) + 1), train_losses, marker='o', label='Training Loss')\n",
        "plt.plot(range(1, len(val_losses) + 1), val_losses, marker='s', linestyle='dashed', label='Validation Loss')\n",
        "\n",
        "plt.title('Training & Validation Loss Over Epochs', fontsize=14)\n",
        "plt.xlabel('Epoch', fontsize=12)\n",
        "plt.ylabel('Loss', fontsize=12)\n",
        "plt.legend()\n",
        "plt.grid(True)\n",
        "plt.show()\n"
      ],
      "metadata": {
        "colab": {
          "base_uri": "https://localhost:8080/",
          "height": 569
        },
        "id": "pW98tf21QmhB",
        "outputId": "219104dc-711c-412a-96e1-b921bbdd9ef9"
      },
      "execution_count": 39,
      "outputs": [
        {
          "output_type": "display_data",
          "data": {
            "text/plain": [
              "<Figure size 1000x600 with 1 Axes>"
            ],
            "image/png": "[encoded data removed]"
          },
          "metadata": {}
        }
      ]
    },
    {
      "cell_type": "markdown",
      "source": [
        "Visualize the loss over epochs to monitor the training process."
      ],
      "metadata": {
        "id": "fLFr6aQsUYDs"
      }
    }
  ],
  "metadata": {
    "accelerator": "GPU",
    "colab": {
      "provenance": [],
      "gpuType": "T4",
      "machine_shape": "hm",
      "collapsed_sections": [
        "OeHGO4qbUUC4",
        "hHgLg4jBUUDp"
      ]
    },
    "kernelspec": {
      "display_name": "Python 3",
      "name": "python3"
    },
    "language_info": {
      "name": "python"
    }
  },
  "nbformat": 4,
  "nbformat_minor": 0
}